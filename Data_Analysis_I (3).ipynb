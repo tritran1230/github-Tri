{
  "nbformat": 4,
  "nbformat_minor": 0,
  "metadata": {
    "colab": {
      "name": "Data Analysis I",
      "provenance": [],
      "collapsed_sections": []
    },
    "kernelspec": {
      "display_name": "Python 3",
      "name": "python3"
    }
  },
  "cells": [
    {
      "cell_type": "code",
      "metadata": {
        "colab": {
          "base_uri": "https://localhost:8080/"
        },
        "id": "yznK314RBcGu",
        "outputId": "8062008b-8376-4683-a95c-310694fe38ad"
      },
      "source": [
        "import statsmodels.api as sm\r\n",
        "import pandas as pd\r\n",
        "import numpy as np\r\n",
        "anes96 = sm.datasets.anes96\r\n",
        "print(anes96.DESCRLONG)\r\n",
        "dataset_anes96 = anes96.load_pandas()\r\n",
        "df_anes96 = dataset_anes96.data\r\n",
        "\r\n",
        "\r\n"
      ],
      "execution_count": 1,
      "outputs": [
        {
          "output_type": "stream",
          "text": [
            "/usr/local/lib/python3.7/dist-packages/statsmodels/tools/_testing.py:19: FutureWarning: pandas.util.testing is deprecated. Use the functions in the public API at pandas.testing instead.\n",
            "  import pandas.util.testing as tm\n"
          ],
          "name": "stderr"
        },
        {
          "output_type": "stream",
          "text": [
            "This data is a subset of the American National Election Studies of 1996.\n"
          ],
          "name": "stdout"
        }
      ]
    },
    {
      "cell_type": "markdown",
      "metadata": {
        "id": "WdAzQKVvQCtL"
      },
      "source": [
        "**1st Hypothesis:** Is the average of party identification of respondent on Independent-Democrat?\r\n",
        "\r\n",
        "H1: The average of party identification of respondent is on Independent-Democrat.\r\n",
        "\r\n",
        "H0: The average of party identification of respondent is not on Independent-Democrat."
      ]
    },
    {
      "cell_type": "code",
      "metadata": {
        "colab": {
          "base_uri": "https://localhost:8080/",
          "height": 426
        },
        "id": "bC6ASgsiBl6D",
        "outputId": "6950e2b4-fbc7-49ec-b3c6-6a0801906db5"
      },
      "source": [
        "\r\n",
        "import matplotlib.pyplot as plt\r\n",
        "import seaborn as sns\r\n",
        "\r\n",
        "fig1, ax1 = plt.subplots()\r\n",
        "ax1.set_title(\"Average of party identification of respondent\")\r\n",
        "ax1.boxplot(df_anes96[\"PID\"])\r\n"
      ],
      "execution_count": 2,
      "outputs": [
        {
          "output_type": "execute_result",
          "data": {
            "text/plain": [
              "{'boxes': [<matplotlib.lines.Line2D at 0x7f05238aaa90>],\n",
              " 'caps': [<matplotlib.lines.Line2D at 0x7f05238bbb50>,\n",
              "  <matplotlib.lines.Line2D at 0x7f05238450d0>],\n",
              " 'fliers': [<matplotlib.lines.Line2D at 0x7f0523845b90>],\n",
              " 'means': [],\n",
              " 'medians': [<matplotlib.lines.Line2D at 0x7f0523845650>],\n",
              " 'whiskers': [<matplotlib.lines.Line2D at 0x7f05238bb0d0>,\n",
              "  <matplotlib.lines.Line2D at 0x7f05238bb610>]}"
            ]
          },
          "metadata": {
            "tags": []
          },
          "execution_count": 2
        },
        {
          "output_type": "display_data",
          "data": {
            "image/png": "[encoded data removed]",
            "text/plain": [
              "<Figure size 432x288 with 1 Axes>"
            ]
          },
          "metadata": {
            "tags": [],
            "needs_background": "light"
          }
        }
      ]
    },
    {
      "cell_type": "markdown",
      "metadata": {
        "id": "rB7ABK1nQai7"
      },
      "source": [
        "We reject null hypothesis and conclude that the average of party identification of respondent is on Independent-Democrat."
      ]
    },
    {
      "cell_type": "markdown",
      "metadata": {
        "id": "pNXS2281QmTb"
      },
      "source": [
        "**2nd Hypothesis:** Does data of age follow a hypothesized distribution?\r\n",
        "\r\n",
        "H1: data of age follows a hypothesized distribution\r\n",
        "\r\n",
        "H0: data of age does not follow a hypothesized distribution"
      ]
    },
    {
      "cell_type": "code",
      "metadata": {
        "colab": {
          "base_uri": "https://localhost:8080/",
          "height": 313
        },
        "id": "HzFMbbYMB_Qx",
        "outputId": "ef586f73-a7ef-4a54-fa98-450d3bdd6ed5"
      },
      "source": [
        "from scipy import stats\r\n",
        "import scipy.stats as stats\r\n",
        "fig = plt.figure()\r\n",
        "res = stats.probplot (df_anes96 ['age'], plot = plt)\r\n",
        "plt.title ('Probability Plot for Age of respondent')\r\n",
        "plt.ylabel (\"Age\")"
      ],
      "execution_count": 3,
      "outputs": [
        {
          "output_type": "execute_result",
          "data": {
            "text/plain": [
              "Text(0, 0.5, 'Age')"
            ]
          },
          "metadata": {
            "tags": []
          },
          "execution_count": 3
        },
        {
          "output_type": "display_data",
          "data": {
            "image/png": "[encoded data removed]",
            "text/plain": [
              "<Figure size 432x288 with 1 Axes>"
            ]
          },
          "metadata": {
            "tags": [],
            "needs_background": "light"
          }
        }
      ]
    },
    {
      "cell_type": "markdown",
      "metadata": {
        "id": "EtMcNvfDQz28"
      },
      "source": [
        "We reject null hypothesis and conclude that  the plot follows a straight line, it is reasonable to assume that the observed statistical sample comes from the specified distribution. Departures from this line indicate departures from that distribution."
      ]
    },
    {
      "cell_type": "markdown",
      "metadata": {
        "id": "VNezOc77Q5Yv"
      },
      "source": [
        "3rd Hypothesis: the relationship between PID and age"
      ]
    },
    {
      "cell_type": "code",
      "metadata": {
        "colab": {
          "base_uri": "https://localhost:8080/",
          "height": 283
        },
        "id": "puwT6LgeCsSb",
        "outputId": "c6f65d85-82ef-4a96-b1d2-1a1d4815449e"
      },
      "source": [
        "plt.scatter(df_anes96['PID'], df_anes96['age'])"
      ],
      "execution_count": 4,
      "outputs": [
        {
          "output_type": "execute_result",
          "data": {
            "text/plain": [
              "<matplotlib.collections.PathCollection at 0x7f052335d790>"
            ]
          },
          "metadata": {
            "tags": []
          },
          "execution_count": 4
        },
        {
          "output_type": "display_data",
          "data": {
            "image/png": "[encoded data removed]",
            "text/plain": [
              "<Figure size 432x288 with 1 Axes>"
            ]
          },
          "metadata": {
            "tags": [],
            "needs_background": "light"
          }
        }
      ]
    },
    {
      "cell_type": "markdown",
      "metadata": {
        "id": "ic4oP80il6Zu"
      },
      "source": [
        "Hypothesis Testing"
      ]
    },
    {
      "cell_type": "code",
      "metadata": {
        "colab": {
          "base_uri": "https://localhost:8080/",
          "height": 333
        },
        "id": "f8hUw_AunZOm",
        "outputId": "39bd75b1-91e3-4b51-fba8-e92d7f7a9fd6"
      },
      "source": [
        "#The mode of a set of data is the number with the highest frequency. \r\n",
        "#In the below example 0.0 of vote is the mode. \r\n",
        "#It means that Cliton votes  occurs with the highest frequency. \r\n",
        "\r\n",
        "\r\n",
        "subsetd = df_anes96[['popul','TVnews','PID','age','educ',\r\n",
        "                    'income', 'vote']]\r\n",
        "print(subsetd)\r\n",
        "\r\n",
        "df_anes96.mode()\r\n"
      ],
      "execution_count": 5,
      "outputs": [
        {
          "output_type": "stream",
          "text": [
            "     popul  TVnews  PID   age  educ  income  vote\n",
            "0      0.0     7.0  6.0  36.0   3.0     1.0   1.0\n",
            "1    190.0     1.0  1.0  20.0   4.0     1.0   0.0\n",
            "2     31.0     7.0  1.0  24.0   6.0     1.0   0.0\n",
            "3     83.0     4.0  1.0  28.0   6.0     1.0   0.0\n",
            "4    640.0     7.0  0.0  68.0   6.0     1.0   0.0\n",
            "..     ...     ...  ...   ...   ...     ...   ...\n",
            "939    0.0     7.0  4.0  73.0   6.0    24.0   1.0\n",
            "940    0.0     7.0  6.0  50.0   6.0    24.0   1.0\n",
            "941    0.0     3.0  5.0  43.0   6.0    24.0   1.0\n",
            "942    0.0     6.0  6.0  46.0   7.0    24.0   1.0\n",
            "943   18.0     7.0  3.0  61.0   7.0    24.0   1.0\n",
            "\n",
            "[944 rows x 7 columns]\n"
          ],
          "name": "stdout"
        },
        {
          "output_type": "execute_result",
          "data": {
            "text/html": [
              "<div>\n",
              "<style scoped>\n",
              "    .dataframe tbody tr th:only-of-type {\n",
              "        vertical-align: middle;\n",
              "    }\n",
              "\n",
              "    .dataframe tbody tr th {\n",
              "        vertical-align: top;\n",
              "    }\n",
              "\n",
              "    .dataframe thead th {\n",
              "        text-align: right;\n",
              "    }\n",
              "</style>\n",
              "<table border=\"1\" class=\"dataframe\">\n",
              "  <thead>\n",
              "    <tr style=\"text-align: right;\">\n",
              "      <th></th>\n",
              "      <th>popul</th>\n",
              "      <th>TVnews</th>\n",
              "      <th>selfLR</th>\n",
              "      <th>ClinLR</th>\n",
              "      <th>DoleLR</th>\n",
              "      <th>PID</th>\n",
              "      <th>age</th>\n",
              "      <th>educ</th>\n",
              "      <th>income</th>\n",
              "      <th>vote</th>\n",
              "      <th>logpopul</th>\n",
              "    </tr>\n",
              "  </thead>\n",
              "  <tbody>\n",
              "    <tr>\n",
              "      <th>0</th>\n",
              "      <td>0.0</td>\n",
              "      <td>7.0</td>\n",
              "      <td>4.0</td>\n",
              "      <td>2.0</td>\n",
              "      <td>6.0</td>\n",
              "      <td>0.0</td>\n",
              "      <td>35.0</td>\n",
              "      <td>3.0</td>\n",
              "      <td>21.0</td>\n",
              "      <td>0.0</td>\n",
              "      <td>-2.302585</td>\n",
              "    </tr>\n",
              "  </tbody>\n",
              "</table>\n",
              "</div>"
            ],
            "text/plain": [
              "   popul  TVnews  selfLR  ClinLR  DoleLR  ...   age  educ  income  vote  logpopul\n",
              "0    0.0     7.0     4.0     2.0     6.0  ...  35.0   3.0    21.0   0.0 -2.302585\n",
              "\n",
              "[1 rows x 11 columns]"
            ]
          },
          "metadata": {
            "tags": []
          },
          "execution_count": 5
        }
      ]
    },
    {
      "cell_type": "code",
      "metadata": {
        "colab": {
          "base_uri": "https://localhost:8080/"
        },
        "id": "VXs8LiP7l7nq",
        "outputId": "7cc7c03f-ca11-4970-c7f9-c0a2c76a0587"
      },
      "source": [
        "\r\n",
        "\r\n",
        "from scipy.stats import shapiro\r\n",
        "series_2test = df_anes96[['vote']]\r\n",
        "stat, p = shapiro(series_2test)\r\n",
        "print('stat=%.3f, p=%.3f' % (stat, p))\r\n",
        "if stat > 0.5:\r\n",
        "    print('Probably Clinton')\r\n",
        "else:\r\n",
        "    print('Probably Dole')\r\n",
        "\r\n",
        "\r\n",
        "#Stat = 0.626, P (0.0) = 0.626, which is higher than 50%\r\n",
        "#so, Clinton has the highest vote\r\n",
        "\r\n"
      ],
      "execution_count": 6,
      "outputs": [
        {
          "output_type": "stream",
          "text": [
            "stat=0.626, p=0.000\n",
            "Probably Clinton\n"
          ],
          "name": "stdout"
        }
      ]
    },
    {
      "cell_type": "code",
      "metadata": {
        "colab": {
          "base_uri": "https://localhost:8080/"
        },
        "id": "XEzAQ5MMtNcp",
        "outputId": "92618bf3-7fd0-4492-88a4-e51a6fa62b44"
      },
      "source": [
        "df_anes96['log_vote'] = np.log(df_anes96['vote'])"
      ],
      "execution_count": 7,
      "outputs": [
        {
          "output_type": "stream",
          "text": [
            "/usr/local/lib/python3.7/dist-packages/pandas/core/series.py:726: RuntimeWarning: divide by zero encountered in log\n",
            "  result = getattr(ufunc, method)(*inputs, **kwargs)\n"
          ],
          "name": "stderr"
        }
      ]
    },
    {
      "cell_type": "code",
      "metadata": {
        "colab": {
          "base_uri": "https://localhost:8080/",
          "height": 894
        },
        "id": "zEPwdI-fmDl8",
        "outputId": "b0a05cd0-9b59-4877-b283-77fb16cb354a"
      },
      "source": [
        "df_anes96['vote'].hist(bins=50, rwidth=.8, figsize=(10,4))\r\n",
        "plt.show()\r\n",
        "df_anes96['vote'].describe()\r\n",
        "\r\n",
        "stats.probplot(df_anes96['vote'], plot=plt)\r\n",
        "plt.ylabel('vote')\r\n",
        "plt.show()\r\n",
        "stats.probplot(np.log(df_anes96['vote']), plot=plt)\r\n",
        "plt.ylabel('log vote')\r\n",
        "plt.show()\r\n",
        "\r\n",
        "#Clincon's Votes column (0.0) is higher than Dole's Votes Column(1.0)"
      ],
      "execution_count": 8,
      "outputs": [
        {
          "output_type": "display_data",
          "data": {
            "image/png": "[encoded data removed]",
            "text/plain": [
              "<Figure size 720x288 with 1 Axes>"
            ]
          },
          "metadata": {
            "tags": [],
            "needs_background": "light"
          }
        },
        {
          "output_type": "display_data",
          "data": {
            "image/png": "[encoded data removed]",
            "text/plain": [
              "<Figure size 432x288 with 1 Axes>"
            ]
          },
          "metadata": {
            "tags": [],
            "needs_background": "light"
          }
        },
        {
          "output_type": "stream",
          "text": [
            "/usr/local/lib/python3.7/dist-packages/pandas/core/series.py:726: RuntimeWarning: divide by zero encountered in log\n",
            "  result = getattr(ufunc, method)(*inputs, **kwargs)\n",
            "/usr/local/lib/python3.7/dist-packages/numpy/lib/function_base.py:2474: RuntimeWarning: invalid value encountered in subtract\n",
            "  X -= avg[:, None]\n"
          ],
          "name": "stderr"
        },
        {
          "output_type": "display_data",
          "data": {
            "image/png": "[encoded data removed]",
            "text/plain": [
              "<Figure size 432x288 with 1 Axes>"
            ]
          },
          "metadata": {
            "tags": [],
            "needs_background": "light"
          }
        }
      ]
    },
    {
      "cell_type": "markdown",
      "metadata": {
        "id": "n551RKbywHLg"
      },
      "source": [
        "REGRESSION"
      ]
    },
    {
      "cell_type": "code",
      "metadata": {
        "id": "G0zM1JDgwYpE"
      },
      "source": [
        "from statsmodels.formula.api import ols\r\n",
        "from sklearn.model_selection import train_test_split\r\n",
        "\r\n",
        "target= subsetd['vote']\r\n",
        "df_train = subsetd.drop(['vote'],axis=1)\r\n",
        "x_train,x_test,y_train,y_test = train_test_split(df_train,target,test_size=0.33,random_state=0)\r\n",
        "# Split data into train and test\r\n",
        "anes96_train = pd.concat([x_train, y_train], axis=1)\r\n",
        "#ames_train.head()\r\n",
        "anes96_test = pd.concat([x_test, y_test], axis=1)"
      ],
      "execution_count": 9,
      "outputs": []
    },
    {
      "cell_type": "code",
      "metadata": {
        "colab": {
          "base_uri": "https://localhost:8080/"
        },
        "id": "CyCzM19lwbQN",
        "outputId": "f1719225-9d69-4766-f0e2-c265131db3ba"
      },
      "source": [
        "anes96_train.shape\r\n",
        "anes96_test.shape"
      ],
      "execution_count": 10,
      "outputs": [
        {
          "output_type": "execute_result",
          "data": {
            "text/plain": [
              "(312, 7)"
            ]
          },
          "metadata": {
            "tags": []
          },
          "execution_count": 10
        }
      ]
    },
    {
      "cell_type": "code",
      "metadata": {
        "colab": {
          "base_uri": "https://localhost:8080/",
          "height": 265
        },
        "id": "tq-zThO1wHnM",
        "outputId": "69991392-5238-4c89-bd3d-7f4a6e0f4a88"
      },
      "source": [
        "from sklearn.linear_model import LinearRegression\r\n",
        "lin_reg = LinearRegression(normalize=True)\r\n",
        "lin_reg.fit(x_train,y_train)\r\n",
        "print(lin_reg.fit)\r\n",
        "print(lin_reg.intercept_)\r\n",
        "df_anes96 = pd.DataFrame(lin_reg.coef_, x_train.columns, columns=['Vote'])\r\n",
        "df_anes96"
      ],
      "execution_count": 11,
      "outputs": [
        {
          "output_type": "stream",
          "text": [
            "<bound method LinearRegression.fit of LinearRegression(copy_X=True, fit_intercept=True, n_jobs=None, normalize=True)>\n",
            "-0.12195445281310968\n"
          ],
          "name": "stdout"
        },
        {
          "output_type": "execute_result",
          "data": {
            "text/html": [
              "<div>\n",
              "<style scoped>\n",
              "    .dataframe tbody tr th:only-of-type {\n",
              "        vertical-align: middle;\n",
              "    }\n",
              "\n",
              "    .dataframe tbody tr th {\n",
              "        vertical-align: top;\n",
              "    }\n",
              "\n",
              "    .dataframe thead th {\n",
              "        text-align: right;\n",
              "    }\n",
              "</style>\n",
              "<table border=\"1\" class=\"dataframe\">\n",
              "  <thead>\n",
              "    <tr style=\"text-align: right;\">\n",
              "      <th></th>\n",
              "      <th>Vote</th>\n",
              "    </tr>\n",
              "  </thead>\n",
              "  <tbody>\n",
              "    <tr>\n",
              "      <th>popul</th>\n",
              "      <td>-0.000008</td>\n",
              "    </tr>\n",
              "    <tr>\n",
              "      <th>TVnews</th>\n",
              "      <td>-0.000836</td>\n",
              "    </tr>\n",
              "    <tr>\n",
              "      <th>PID</th>\n",
              "      <td>0.167539</td>\n",
              "    </tr>\n",
              "    <tr>\n",
              "      <th>age</th>\n",
              "      <td>0.001043</td>\n",
              "    </tr>\n",
              "    <tr>\n",
              "      <th>educ</th>\n",
              "      <td>-0.007295</td>\n",
              "    </tr>\n",
              "    <tr>\n",
              "      <th>income</th>\n",
              "      <td>0.002538</td>\n",
              "    </tr>\n",
              "  </tbody>\n",
              "</table>\n",
              "</div>"
            ],
            "text/plain": [
              "            Vote\n",
              "popul  -0.000008\n",
              "TVnews -0.000836\n",
              "PID     0.167539\n",
              "age     0.001043\n",
              "educ   -0.007295\n",
              "income  0.002538"
            ]
          },
          "metadata": {
            "tags": []
          },
          "execution_count": 11
        }
      ]
    },
    {
      "cell_type": "code",
      "metadata": {
        "colab": {
          "base_uri": "https://localhost:8080/",
          "height": 343
        },
        "id": "try0_0pcoYjq",
        "outputId": "472402b3-ccb7-4935-a079-6313a0b3a6e2"
      },
      "source": [
        "print()\r\n",
        "\r\n",
        "import matplotlib.pyplot as plt\r\n",
        "import numpy as np\r\n",
        "from sklearn import datasets, linear_model\r\n",
        "from sklearn.metrics import mean_squared_error, r2_score\r\n",
        "\r\n",
        "df_anes96 = dataset_anes96.data\r\n",
        "subsetd = df_anes96[['educ', 'PID']]\r\n",
        "educ_X = subsetd.drop(['educ'], axis=1)\r\n",
        "PID_y = subsetd.drop(['PID'], axis=1)\r\n",
        "\r\n",
        "\r\n",
        "# NEED FIX HERE\r\n",
        "\r\n",
        "\r\n",
        "# Load the dataset\r\n",
        "educ_X, PID_y = datasets.load_diabetes (return_X_y=True)\r\n",
        "\r\n",
        "\r\n",
        "# Use only one feature\r\n",
        "educ_X = educ_X[:, np.newaxis, 2]\r\n",
        "\r\n",
        "# Split the data into training/testing sets\r\n",
        "educ_X_train = educ_X[:-20]\r\n",
        "educ_X_test = educ_X[-20:]\r\n",
        "\r\n",
        "# Split the targets into training/testing sets\r\n",
        "PID_y_train = PID_y[:-20]\r\n",
        "PID_y_test = PID_y[-20:]\r\n",
        "\r\n",
        "# Create linear regression object\r\n",
        "regr = linear_model.LinearRegression()\r\n",
        "\r\n",
        "# Train the model using the training sets\r\n",
        "regr.fit(educ_X_train, PID_y_train)\r\n",
        "\r\n",
        "# Make predictions using the testing set\r\n",
        "PID_y_pred = regr.predict(educ_X_test)\r\n",
        "\r\n",
        "# The coefficients\r\n",
        "print('Coefficients: \\n', regr.coef_)\r\n",
        "# The mean squared error\r\n",
        "print('Mean squared error: %.2f'\r\n",
        "      % mean_squared_error(PID_y_test, PID_y_pred))\r\n",
        "# The coefficient of determination: 1 is perfect prediction\r\n",
        "print('Coefficient of determination: %.2f'\r\n",
        "      % r2_score(PID_y_test, PID_y_pred))\r\n",
        "\r\n",
        "# Plot outputs\r\n",
        "plt.scatter(educ_X_test, PID_y_test,  color='black')\r\n",
        "plt.plot(educ_X_test, PID_y_pred, color='blue', linewidth=3)\r\n",
        "\r\n",
        "plt.xticks(())\r\n",
        "plt.yticks(())\r\n",
        "\r\n",
        "plt.show()"
      ],
      "execution_count": 12,
      "outputs": [
        {
          "output_type": "stream",
          "text": [
            "\n",
            "Coefficients: \n",
            " [938.23786125]\n",
            "Mean squared error: 2548.07\n",
            "Coefficient of determination: 0.47\n"
          ],
          "name": "stdout"
        },
        {
          "output_type": "display_data",
          "data": {
            "image/png": "[encoded data removed]",
            "text/plain": [
              "<Figure size 432x288 with 1 Axes>"
            ]
          },
          "metadata": {
            "tags": []
          }
        }
      ]
    }
  ]
}